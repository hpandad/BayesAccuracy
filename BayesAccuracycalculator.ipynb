{
  "nbformat": 4,
  "nbformat_minor": 0,
  "metadata": {
    "colab": {
      "provenance": []
    },
    "kernelspec": {
      "name": "python3",
      "display_name": "Python 3"
    },
    "language_info": {
      "name": "python"
    }
  },
  "cells": [
    {
      "cell_type": "code",
      "execution_count": null,
      "metadata": {
        "id": "gpfkq4ZuEG-E"
      },
      "outputs": [],
      "source": [
        "\n",
        "\n"
      ]
    },
    {
      "cell_type": "code",
      "source": [
        "def train(input):\n",
        "  import pandas as pd\n",
        "  import numpy as np\n",
        "  import numpy.linalg as la\n",
        "  import matplotlib.pyplot as plt\n",
        "  df = pd.read_csv(input, sep=\",\", header=None)\n",
        "  df.columns= df.iloc[0]\n",
        "  counts = {}\n",
        "  total = len(df['Churn']) - 1\n",
        "  totalChurn0 = 0\n",
        "  totalChurn1 = 0\n",
        "  for col in df.columns:\n",
        "    if col != 'Churn':\n",
        "      counts[col] = {}\n",
        "      for i in range(1, len(df[col])):\n",
        "        val = df[col][i]\n",
        "        churned = df['Churn'][i]\n",
        "        if val not in counts[col]:\n",
        "          counts[col][val] = {}\n",
        "          counts[col][val]['0'] = 0\n",
        "          counts[col][val]['1'] = 0\n",
        "          counts[col][val][churned] += 1\n",
        "        else:\n",
        "          counts[col][val][churned] += 1\n",
        "    else:\n",
        "      for i in range(1, len(df[col])):\n",
        "         val = df[col][i]\n",
        "         if val == '0':\n",
        "          totalChurn0 +=1\n",
        "         if val == '1':\n",
        "          totalChurn1 +=1\n",
        "  probabilities = counts.copy()\n",
        "  for param in probabilities:\n",
        "    for val in probabilities[param]:\n",
        "      numvals = len(probabilities[param])\n",
        "      for churned in probabilities[param][val]:\n",
        "          count = counts[param][val][churned]\n",
        "          probValGivenChurn = 0\n",
        "          if churned == '0':\n",
        "            probValGivenChurn = (count + 1)/(totalChurn0 + numvals)\n",
        "          else:\n",
        "            probValGivenChurn = (count + 1)/(totalChurn1 + numvals)\n",
        "          probabilities[param][val][churned] = probValGivenChurn\n",
        "  return probabilities\n",
        "def accuracy(input):\n",
        "  import pandas as pd\n",
        "  import numpy as np\n",
        "  import numpy.linalg as la\n",
        "  import matplotlib.pyplot as plt\n",
        "  probabilities = train(input)\n",
        "  df = pd.read_csv(input, sep=\",\", header=None)\n",
        "  df.columns= df.iloc[0]\n",
        "  accurate = 0\n",
        "  wrong = 0\n",
        "  TP = 0\n",
        "  FN = 0\n",
        "  TN = 0\n",
        "  FP = 0\n",
        "  for i in range(1, len(df['Churn'])):\n",
        "    prob0 = 0\n",
        "    prob1 = 0\n",
        "    for col in df.columns:\n",
        "      val = df[col][i]\n",
        "      if col != 'Churn':\n",
        "        prob0 = prob0 + np.log(probabilities[col][val]['0'])\n",
        "        prob1 = prob1 + np.log(probabilities[col][val]['1'])\n",
        "      else:\n",
        "        prob0 = 10**prob0\n",
        "        prob1 = 10**prob1\n",
        "        if prob0 > prob1:\n",
        "          if val == '0':\n",
        "            accurate+=1\n",
        "            TN += 1\n",
        "          else:\n",
        "            wrong+=1\n",
        "            FN += 1\n",
        "        else:\n",
        "          if val == '1':\n",
        "            accurate+=1\n",
        "            TP += 1\n",
        "          else:\n",
        "            FP +=1\n",
        "            wrong+=1\n",
        "  accuracy = accurate/(accurate + wrong)\n",
        "  precision = TP/(TP + FP)\n",
        "  recall = TP/(TP + FN)\n",
        "  ConfusionMatrix = [[TP, FN],[FP, TN]]\n",
        "  F1Score = 2 * (precision * recall) / (precision + recall)\n",
        "  return accuracy, precision, recall, F1Score, ConfusionMatrix\n",
        "print(accuracy(\"/content/sample_data/Validation.csv\"))"
      ],
      "metadata": {
        "colab": {
          "base_uri": "https://localhost:8080/"
        },
        "id": "gfR6KgDgERYs",
        "outputId": "1d2946b7-cadf-40ff-fd85-522428cd84f3"
      },
      "execution_count": null,
      "outputs": [
        {
          "output_type": "stream",
          "name": "stdout",
          "text": [
            "(0.6661931818181818, 0.4365079365079365, 0.8823529411764706, 0.584070796460177, [[165, 22], [213, 304]])\n"
          ]
        }
      ]
    },
    {
      "cell_type": "markdown",
      "source": [
        "# New Section"
      ],
      "metadata": {
        "id": "8aS8JrtxdeFN"
      }
    },
    {
      "cell_type": "markdown",
      "source": [
        "# New Section"
      ],
      "metadata": {
        "id": "8uOkwP5edeaN"
      }
    }
  ]
}